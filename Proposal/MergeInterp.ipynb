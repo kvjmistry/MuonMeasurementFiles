{
 "cells": [
  {
   "cell_type": "code",
   "execution_count": 33,
   "metadata": {},
   "outputs": [],
   "source": [
    "# A script to merge the interpolated files to one\n",
    "\n",
    "import pickle\n",
    "import numpy as np\n",
    "import matplotlib.pyplot as plt"
   ]
  },
  {
   "cell_type": "code",
   "execution_count": 34,
   "metadata": {},
   "outputs": [
    {
     "name": "stdout",
     "output_type": "stream",
     "text": [
      "Energy:  100\n",
      "Energy:  300\n",
      "Energy:  400\n",
      "Energy:  450\n",
      "Energy:  475\n",
      "Energy:  500\n",
      "Energy:  525\n",
      "Energy:  550\n",
      "Energy:  575\n",
      "Energy:  600\n",
      "Energy:  625\n",
      "Energy:  650\n",
      "Energy:  675\n",
      "Energy:  700\n"
     ]
    },
    {
     "name": "stderr",
     "output_type": "stream",
     "text": [
      "/var/folders/tr/r0bv1gl52_vb7v8bswkb_z0nb301gc/T/ipykernel_30110/3283137613.py:18: DeprecationWarning: Please use `Delaunay` from the `scipy.spatial` namespace, the `scipy.spatial.qhull` namespace is deprecated.\n",
      "  Interp=pickle.load(f)\n"
     ]
    },
    {
     "name": "stdout",
     "output_type": "stream",
     "text": [
      "Energy:  725\n",
      "Energy:  750\n",
      "Energy:  775\n",
      "Energy:  800\n",
      "Energy:  825\n",
      "Energy:  850\n",
      "Energy:  875\n",
      "Energy:  900\n",
      "Energy:  950\n",
      "Energy:  1000\n",
      "Energy:  1100\n",
      "Energy:  1200\n",
      "Energy:  1300\n",
      "Energy:  1400\n",
      "Energy:  1500\n",
      "Energy:  1600\n",
      "Energy:  1700\n",
      "Energy:  1800\n",
      "Energy:  1900\n",
      "Energy:  2000\n",
      "Energy:  3000\n",
      "Energy:  4000\n",
      "Energy:  5000\n",
      "Energy:  6000\n"
     ]
    }
   ],
   "source": [
    "# Energies=[\"100\", \"300\", \"400\", \"450\", \"500\", \"550\", \"600\", \"700\", \"800\", \"900\", \"1000\", \"2000\", \"4000\", \"6000\"]\n",
    "Energies = [100, 300, 400, 450, 475, 500, 525, 550, 575, 600, \n",
    "            625, 650, 675, 700, 725, 750, 775, 800, 825, 850, 875, \n",
    "            900, 950,  1000, 1100, 1200, 1300, 1400, 1500, 1600,\n",
    "            1700, 1800, 1900, 2000, 3000, 4000,5000,6000]\n",
    "\n",
    "\n",
    "# Load in the energy files\n",
    "\n",
    "Linterps = []\n",
    "\n",
    "Mode = \"\"\n",
    "Mode = \"CosTheta\"\n",
    "\n",
    "for e in Energies:\n",
    "    print(\"Energy: \",e)\n",
    "    f=open(f\"Files/Interp/LinInterps{Mode}{e}.pkl\",'rb')\n",
    "    Interp=pickle.load(f)\n",
    "    Linterps.append(Interp)\n",
    "    f.close() \n",
    "\n",
    "f=open(f\"Files/LinInterps{Mode}.pkl\",'wb')\n",
    "pickle.dump(Linterps,f)\n",
    "f.close()\n"
   ]
  },
  {
   "cell_type": "code",
   "execution_count": 44,
   "metadata": {},
   "outputs": [
    {
     "name": "stdout",
     "output_type": "stream",
     "text": [
      "575\n"
     ]
    },
    {
     "name": "stderr",
     "output_type": "stream",
     "text": [
      "No artists with labels found to put in legend.  Note that artists whose label start with an underscore are ignored when legend() is called with no argument.\n"
     ]
    },
    {
     "data": {
      "image/png": "[encoded data removed]",
      "text/plain": [
       "<Figure size 432x288 with 2 Axes>"
      ]
     },
     "metadata": {
      "needs_background": "light"
     },
     "output_type": "display_data"
    }
   ],
   "source": [
    "# Plot the interpolations\n",
    "e = 8\n",
    "\n",
    "print(Energies[e])\n",
    "\n",
    "numofstps = 100 # was 50\n",
    "\n",
    "a_sample = np.linspace(0,np.pi/2,numofstps) \n",
    "\n",
    "cosa_sample = np.linspace(0,1,numofstps)\n",
    "a_sample = np.arccos(cosa_sample)\n",
    "\n",
    "b_sample = np.linspace(-np.pi,np.pi,numofstps)\n",
    "a_mesh, b_mesh = np.meshgrid(a_sample,b_sample)\n",
    "\n",
    "flux = Linterps[e](cosa_sample, b_mesh)\n",
    "\n",
    "plt.pcolormesh(a_sample, b_mesh, flux, shading='auto')\n",
    "# plt.plot(a_sample, b_sample, \"ok\", label=\"input point\")\n",
    "plt.legend()\n",
    "plt.colorbar()\n",
    "# plt.axis(\"equal\")\n",
    "plt.show()\n",
    "\n"
   ]
  }
 ],
 "metadata": {
  "kernelspec": {
   "display_name": "Python 3.10.2 ('local')",
   "language": "python",
   "name": "python3"
  },
  "language_info": {
   "codemirror_mode": {
    "name": "ipython",
    "version": 3
   },
   "file_extension": ".py",
   "mimetype": "text/x-python",
   "name": "python",
   "nbconvert_exporter": "python",
   "pygments_lexer": "ipython3",
   "version": "3.10.2"
  },
  "orig_nbformat": 4,
  "vscode": {
   "interpreter": {
    "hash": "697bf987dce006577bd87a7a25757c22c7032719c9d6b0c5f79448aca38b87a5"
   }
  }
 },
 "nbformat": 4,
 "nbformat_minor": 2
}
